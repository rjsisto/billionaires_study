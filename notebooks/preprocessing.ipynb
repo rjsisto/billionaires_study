{
 "cells": [
  {
   "cell_type": "code",
   "execution_count": 54,
   "id": "46a2e0c7-c027-47fc-b289-cc12f3a0229c",
   "metadata": {},
   "outputs": [],
   "source": [
    "import numpy as np\n",
    "import pandas as pd\n",
    "#TODO may need to add these two packages as dependencies\n",
    "import pycountry_convert as pc\n",
    "import tomllib\n",
    "\n",
    "#TODO change this src to the correct one\n",
    "config_src = \"config.toml\"\n",
    "with open(config_src, \"rb\") as f:\n",
    "    CONFIG = tomllib.load(f)\n"
   ]
  },
  {
   "cell_type": "code",
   "execution_count": 56,
   "id": "9acaea28-93bc-4ed5-b5fb-2f9f36873e46",
   "metadata": {},
   "outputs": [],
   "source": [
    "bill_src = CONFIG[\"DATA_FOLDER\"] + \"raw/Billionaires_Statistics_Dataset.csv\"\n",
    "country_src = CONFIG[\"DATA_FOLDER\"] + \"raw/world-data-2023.csv\"\n",
    "bill_data = pd.read_csv(bill_src) \n",
    "country_data = pd.read_csv(country_src)"
   ]
  },
  {
   "cell_type": "code",
   "execution_count": 57,
   "id": "03f42f0f-73c6-4558-9009-e4548da6dc5f",
   "metadata": {},
   "outputs": [],
   "source": [
    "#removing unneeded columns and renaming columns in country data\n",
    "country_data.drop(columns=CONFIG[\"COUNTRY\"][\"DROP\"], inplace=True)\n",
    "country_data.rename(columns=CONFIG[\"COUNTRY\"][\"RENAME\"], inplace=True)\n",
    "\n",
    "#fixing sao tome and princepe \n",
    "country_data[\"country\"].iloc[150] = \"Sao Tome and Principe\""
   ]
  },
  {
   "cell_type": "code",
   "execution_count": 58,
   "id": "9c1aa9d7-0931-4d35-a873-82a47a3ef33b",
   "metadata": {},
   "outputs": [],
   "source": [
    "#dropping columns from the billionaires dataset\n",
    "bill_data.drop(columns=CONFIG[\"BILLIONAIRES\"][\"DROP\"], inplace=True)\n"
   ]
  },
  {
   "cell_type": "code",
   "execution_count": 86,
   "id": "d6a80412-6782-4ca9-862e-a729bed9780b",
   "metadata": {},
   "outputs": [
    {
     "data": {
      "text/plain": [
       "country\n",
       "Algeria             1\n",
       "Andorra             1\n",
       "Argentina           4\n",
       "Armenia             1\n",
       "Australia          43\n",
       "                 ... \n",
       "United Kingdom     82\n",
       "United States     754\n",
       "Uruguay             1\n",
       "Uzbekistan          1\n",
       "Vietnam             6\n",
       "Name: count, Length: 78, dtype: int64"
      ]
     },
     "execution_count": 86,
     "metadata": {},
     "output_type": "execute_result"
    }
   ],
   "source": [
    "#wrangling the billionaires dataframe to be country and # of billionaires\n",
    "\n",
    "num_bill = bill_data.groupby(\"country\").count()[\"rank\"]\n",
    "num_bill.rename(\"count\", inplace=True)"
   ]
  },
  {
   "cell_type": "code",
   "execution_count": 133,
   "id": "7d775772-2903-4f04-88d1-eee2c4a8cae6",
   "metadata": {},
   "outputs": [],
   "source": [
    "#merging country data with number of billionaires per country\n",
    "full_num_bill = pd.merge(num_bill, country_data, on=\"country\", how=\"outer\")\n",
    "\n",
    "#setting all na in billionaire count to 0\n",
    "full_num_bill.loc[pd.isna(f[\"count\"]), \"count\"] = 0"
   ]
  },
  {
   "cell_type": "code",
   "execution_count": 135,
   "id": "7597543b-62d2-4f4a-8f62-176df080b4f6",
   "metadata": {},
   "outputs": [],
   "source": [
    "#writing the number of billionaires per country dataset to a file\n",
    "full_num_bill.to_csv(CONFIG[\"DATA_FOLDER\"] + \"/interim/num_bill.csv\", index=False)"
   ]
  },
  {
   "cell_type": "code",
   "execution_count": null,
   "id": "4b3fcc98-7f8d-4063-ac66-ff28dedc5099",
   "metadata": {},
   "outputs": [],
   "source": []
  }
 ],
 "metadata": {
  "kernelspec": {
   "display_name": "Python 3 (ipykernel)",
   "language": "python",
   "name": "python3"
  },
  "language_info": {
   "codemirror_mode": {
    "name": "ipython",
    "version": 3
   },
   "file_extension": ".py",
   "mimetype": "text/x-python",
   "name": "python",
   "nbconvert_exporter": "python",
   "pygments_lexer": "ipython3",
   "version": "3.12.0"
  }
 },
 "nbformat": 4,
 "nbformat_minor": 5
}
