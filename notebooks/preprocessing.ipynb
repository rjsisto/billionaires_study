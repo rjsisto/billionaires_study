{
 "cells": [
  {
   "cell_type": "code",
   "execution_count": 1,
   "id": "46a2e0c7-c027-47fc-b289-cc12f3a0229c",
   "metadata": {},
   "outputs": [],
   "source": [
    "import numpy as np\n",
    "import pandas as pd\n",
    "#TODO may need to add these two packages as dependencies\n",
    "import pycountry_convert as pc\n",
    "import wbgapi as wb\n",
    "\n",
    "data_src = \"/project/src/data/raw/Billionaires_Statistics_Dataset.csv\""
   ]
  },
  {
   "cell_type": "code",
   "execution_count": 9,
   "id": "b95a36b6-c080-4da7-acbb-420973018aa7",
   "metadata": {},
   "outputs": [],
   "source": [
    "#exploring the wbgapi datasets\n",
    "l = wb.source.info()\n",
    "#df.sort_values(by=['Country'])\n",
    "\n",
    "#need at least these columns\n",
    "f = ['cpi_country', 'cpi_change_country',\n",
    "       'gdp_country', 'gross_tertiary_education_enrollment',\n",
    "       'gross_primary_education_enrollment_country', 'life_expectancy_country',\n",
    "       'tax_revenue_country_country', 'total_tax_rate_country',\n",
    "       'population_country', 'latitude_country', 'longitude_country']\n"
   ]
  },
  {
   "cell_type": "code",
   "execution_count": 5,
   "id": "2d36bc0b-aeb0-4cd5-905b-e1ed5007eede",
   "metadata": {},
   "outputs": [],
   "source": [
    "#exploring the base WDI database\n",
    "#wb.series.info()\n",
    "\n",
    "#TODO move this list to a config file\n",
    "variables = [\"NY.GDP.MKTP.CD\", \"NY.GDP.PCAP.CD\", \"SP.POP.TOTL\", \"SE.XPD.TOTL.GD.ZS\", \"SE.ENR.PRSC.FM.ZS\", \"SH.DYN.MORT\", \"SP.DYN.LE00.MA.IN\", \n",
    "             \"SP.DYN.LE00.FE.IN\", \"SE.PRM.ENRR\", \"SE.SEC.ENRR\", \"SE.TER.ENRR\", \"NY.GDP.MKTP.KD.ZG\", \"NV.AGR.TOTL.ZS\", \"NV.IND.TOTL.ZS\", \"NV.SRV.TOTL.ZS\", \n",
    "             \"NE.EXP.GNFS.ZS\", \"NE.IMP.GNFS.ZS\", \"SL.UEM.TOTL.ZS\", \"GC.TAX.TOTL.GD.ZS\"]\n",
    "\n",
    "#TODO need to find the variables that would help me create the database\n",
    "#example of creating a database of requested values\n",
    "wdi = wb.data.DataFrame(variables, mrv=1)\n"
   ]
  },
  {
   "cell_type": "code",
   "execution_count": 16,
   "id": "22c2987d-6aa4-4b70-81d2-16a625b7f7dc",
   "metadata": {},
   "outputs": [
    {
     "data": {
      "text/plain": [
       "Index(['rank', 'finalWorth', 'category', 'personName', 'age', 'country',\n",
       "       'city', 'source', 'industries', 'countryOfCitizenship', 'organization',\n",
       "       'selfMade', 'status', 'gender', 'birthDate', 'lastName', 'firstName',\n",
       "       'title', 'date', 'state', 'residenceStateRegion', 'birthYear',\n",
       "       'birthMonth', 'birthDay', 'cpi_country', 'cpi_change_country',\n",
       "       'gdp_country', 'gross_tertiary_education_enrollment',\n",
       "       'gross_primary_education_enrollment_country', 'life_expectancy_country',\n",
       "       'tax_revenue_country_country', 'total_tax_rate_country',\n",
       "       'population_country', 'latitude_country', 'longitude_country'],\n",
       "      dtype='object')"
      ]
     },
     "execution_count": 16,
     "metadata": {},
     "output_type": "execute_result"
    }
   ],
   "source": [
    "data = pd.read_csv(data_src)\n",
    "data.columns"
   ]
  },
  {
   "cell_type": "code",
   "execution_count": 31,
   "id": "25bd8e2e-2b7d-415a-bfcd-7c121d46fe8b",
   "metadata": {},
   "outputs": [],
   "source": [
    "#TODO: just use countryOfCitizenship as the country for each billionaire\n",
    "#TODO need to apply all the other attributes from the countries to all the billionaires\n",
    "\n",
    "data[\"country\"] = data[\"countryOfCitizenship\"]\n",
    "countries = data[\"country\"].unique()\n",
    "\n",
    "\n"
   ]
  },
  {
   "cell_type": "code",
   "execution_count": 38,
   "id": "508fc329-f8d5-4e90-9016-7ebfde1c7a85",
   "metadata": {},
   "outputs": [
    {
     "ename": "KeyError",
     "evalue": "False",
     "output_type": "error",
     "traceback": [
      "\u001b[0;31m---------------------------------------------------------------------------\u001b[0m",
      "\u001b[0;31mKeyError\u001b[0m                                  Traceback (most recent call last)",
      "File \u001b[0;32m/usr/local/lib/python3.12/site-packages/pandas/core/indexes/base.py:3790\u001b[0m, in \u001b[0;36mIndex.get_loc\u001b[0;34m(self, key)\u001b[0m\n\u001b[1;32m   3789\u001b[0m \u001b[38;5;28;01mtry\u001b[39;00m:\n\u001b[0;32m-> 3790\u001b[0m     \u001b[38;5;28;01mreturn\u001b[39;00m \u001b[38;5;28;43mself\u001b[39;49m\u001b[38;5;241;43m.\u001b[39;49m\u001b[43m_engine\u001b[49m\u001b[38;5;241;43m.\u001b[39;49m\u001b[43mget_loc\u001b[49m\u001b[43m(\u001b[49m\u001b[43mcasted_key\u001b[49m\u001b[43m)\u001b[49m\n\u001b[1;32m   3791\u001b[0m \u001b[38;5;28;01mexcept\u001b[39;00m \u001b[38;5;167;01mKeyError\u001b[39;00m \u001b[38;5;28;01mas\u001b[39;00m err:\n",
      "File \u001b[0;32mindex.pyx:152\u001b[0m, in \u001b[0;36mpandas._libs.index.IndexEngine.get_loc\u001b[0;34m()\u001b[0m\n",
      "File \u001b[0;32mindex.pyx:181\u001b[0m, in \u001b[0;36mpandas._libs.index.IndexEngine.get_loc\u001b[0;34m()\u001b[0m\n",
      "File \u001b[0;32mpandas/_libs/hashtable_class_helper.pxi:7080\u001b[0m, in \u001b[0;36mpandas._libs.hashtable.PyObjectHashTable.get_item\u001b[0;34m()\u001b[0m\n",
      "File \u001b[0;32mpandas/_libs/hashtable_class_helper.pxi:7088\u001b[0m, in \u001b[0;36mpandas._libs.hashtable.PyObjectHashTable.get_item\u001b[0;34m()\u001b[0m\n",
      "\u001b[0;31mKeyError\u001b[0m: False",
      "\nThe above exception was the direct cause of the following exception:\n",
      "\u001b[0;31mKeyError\u001b[0m                                  Traceback (most recent call last)",
      "Cell \u001b[0;32mIn[38], line 1\u001b[0m\n\u001b[0;32m----> 1\u001b[0m \u001b[43mdata\u001b[49m\u001b[43m[\u001b[49m\u001b[38;5;124;43m\"\u001b[39;49m\u001b[38;5;124;43mcountries\u001b[39;49m\u001b[38;5;124;43m\"\u001b[39;49m\u001b[43m \u001b[49m\u001b[38;5;241;43m==\u001b[39;49m\u001b[43m \u001b[49m\u001b[43mcountries\u001b[49m\u001b[43m[\u001b[49m\u001b[38;5;241;43m0\u001b[39;49m\u001b[43m]\u001b[49m\u001b[43m \u001b[49m\u001b[43m]\u001b[49m\n\u001b[1;32m      3\u001b[0m data[f]\n\u001b[1;32m      5\u001b[0m \u001b[38;5;66;03m#test = pd.dataframe()\u001b[39;00m\n",
      "File \u001b[0;32m/usr/local/lib/python3.12/site-packages/pandas/core/frame.py:3893\u001b[0m, in \u001b[0;36mDataFrame.__getitem__\u001b[0;34m(self, key)\u001b[0m\n\u001b[1;32m   3891\u001b[0m \u001b[38;5;28;01mif\u001b[39;00m \u001b[38;5;28mself\u001b[39m\u001b[38;5;241m.\u001b[39mcolumns\u001b[38;5;241m.\u001b[39mnlevels \u001b[38;5;241m>\u001b[39m \u001b[38;5;241m1\u001b[39m:\n\u001b[1;32m   3892\u001b[0m     \u001b[38;5;28;01mreturn\u001b[39;00m \u001b[38;5;28mself\u001b[39m\u001b[38;5;241m.\u001b[39m_getitem_multilevel(key)\n\u001b[0;32m-> 3893\u001b[0m indexer \u001b[38;5;241m=\u001b[39m \u001b[38;5;28;43mself\u001b[39;49m\u001b[38;5;241;43m.\u001b[39;49m\u001b[43mcolumns\u001b[49m\u001b[38;5;241;43m.\u001b[39;49m\u001b[43mget_loc\u001b[49m\u001b[43m(\u001b[49m\u001b[43mkey\u001b[49m\u001b[43m)\u001b[49m\n\u001b[1;32m   3894\u001b[0m \u001b[38;5;28;01mif\u001b[39;00m is_integer(indexer):\n\u001b[1;32m   3895\u001b[0m     indexer \u001b[38;5;241m=\u001b[39m [indexer]\n",
      "File \u001b[0;32m/usr/local/lib/python3.12/site-packages/pandas/core/indexes/base.py:3797\u001b[0m, in \u001b[0;36mIndex.get_loc\u001b[0;34m(self, key)\u001b[0m\n\u001b[1;32m   3792\u001b[0m     \u001b[38;5;28;01mif\u001b[39;00m \u001b[38;5;28misinstance\u001b[39m(casted_key, \u001b[38;5;28mslice\u001b[39m) \u001b[38;5;129;01mor\u001b[39;00m (\n\u001b[1;32m   3793\u001b[0m         \u001b[38;5;28misinstance\u001b[39m(casted_key, abc\u001b[38;5;241m.\u001b[39mIterable)\n\u001b[1;32m   3794\u001b[0m         \u001b[38;5;129;01mand\u001b[39;00m \u001b[38;5;28many\u001b[39m(\u001b[38;5;28misinstance\u001b[39m(x, \u001b[38;5;28mslice\u001b[39m) \u001b[38;5;28;01mfor\u001b[39;00m x \u001b[38;5;129;01min\u001b[39;00m casted_key)\n\u001b[1;32m   3795\u001b[0m     ):\n\u001b[1;32m   3796\u001b[0m         \u001b[38;5;28;01mraise\u001b[39;00m InvalidIndexError(key)\n\u001b[0;32m-> 3797\u001b[0m     \u001b[38;5;28;01mraise\u001b[39;00m \u001b[38;5;167;01mKeyError\u001b[39;00m(key) \u001b[38;5;28;01mfrom\u001b[39;00m \u001b[38;5;21;01merr\u001b[39;00m\n\u001b[1;32m   3798\u001b[0m \u001b[38;5;28;01mexcept\u001b[39;00m \u001b[38;5;167;01mTypeError\u001b[39;00m:\n\u001b[1;32m   3799\u001b[0m     \u001b[38;5;66;03m# If we have a listlike key, _check_indexing_error will raise\u001b[39;00m\n\u001b[1;32m   3800\u001b[0m     \u001b[38;5;66;03m#  InvalidIndexError. Otherwise we fall through and re-raise\u001b[39;00m\n\u001b[1;32m   3801\u001b[0m     \u001b[38;5;66;03m#  the TypeError.\u001b[39;00m\n\u001b[1;32m   3802\u001b[0m     \u001b[38;5;28mself\u001b[39m\u001b[38;5;241m.\u001b[39m_check_indexing_error(key)\n",
      "\u001b[0;31mKeyError\u001b[0m: False"
     ]
    }
   ],
   "source": [
    "data[\"countries\" == countries[0] ]\n",
    "\n",
    "data[f]\n",
    "\n",
    "#test = pd.dataframe()"
   ]
  },
  {
   "cell_type": "code",
   "execution_count": null,
   "id": "ef104829-3510-4b53-aaec-45eb91744753",
   "metadata": {},
   "outputs": [],
   "source": [
    "#Columns to drop: countryOfCitizenship,  "
   ]
  },
  {
   "cell_type": "code",
   "execution_count": 13,
   "id": "8dc8a204-e3f4-441c-bdc7-924b1b4476b4",
   "metadata": {},
   "outputs": [
    {
     "name": "stdout",
     "output_type": "stream",
     "text": [
      "CN\n",
      "AS\n"
     ]
    }
   ],
   "source": [
    "#TODO convert country names to continents\n",
    "\n",
    "country_code = pc.country_name_to_country_alpha2(\"China\", cn_name_format=\"default\")\n",
    "print(country_code)\n",
    "continent_name = pc.country_alpha2_to_continent_code(country_code)\n",
    "print(continent_name)"
   ]
  },
  {
   "cell_type": "code",
   "execution_count": null,
   "id": "2d9759f3-e1f0-427f-b915-edc0f866a5a5",
   "metadata": {},
   "outputs": [],
   "source": [
    "\n",
    "#NOTE: just use countryOfCitizenship as the country for each billionaire\n",
    "data$country = data$countryOfCitizenship\n",
    "\n",
    "#TODO need to apply all the other attributes from the countries to all the billionaires\n",
    "\n",
    " \n",
    "#data$tax_revenue_country_country\n",
    "\n",
    "\n",
    "\n",
    "continents = data.frame(country = unique(data$country))\n",
    "data$continent = countrycode(sourcevar=data[, \"country\"], origin = \"country.name\", destination=\"continent\")"
   ]
  },
  {
   "cell_type": "code",
   "execution_count": 11,
   "id": "88429a68-f1a9-4ae3-b818-b4dd0940bf9e",
   "metadata": {},
   "outputs": [
    {
     "name": "stdout",
     "output_type": "stream",
     "text": [
      "Collecting pycountry-convert\n",
      "  Downloading pycountry_convert-0.7.2-py3-none-any.whl (13 kB)\n",
      "Collecting pprintpp>=0.3.0 (from pycountry-convert)\n",
      "  Downloading pprintpp-0.4.0-py2.py3-none-any.whl (16 kB)\n",
      "Collecting pycountry>=16.11.27.1 (from pycountry-convert)\n",
      "  Downloading pycountry-22.3.5.tar.gz (10.1 MB)\n",
      "\u001b[2K     \u001b[90m━━━━━━━━━━━━━━━━━━━━━━━━━━━━━━━━━━━━━━━━\u001b[0m \u001b[32m10.1/10.1 MB\u001b[0m \u001b[31m26.0 MB/s\u001b[0m eta \u001b[36m0:00:00\u001b[0m00:01\u001b[0m0:01\u001b[0m\n",
      "\u001b[?25h  Installing build dependencies ... \u001b[?25ldone\n",
      "\u001b[?25h  Getting requirements to build wheel ... \u001b[?25ldone\n",
      "\u001b[?25h  Preparing metadata (pyproject.toml) ... \u001b[?25ldone\n",
      "\u001b[?25hCollecting pytest>=3.4.0 (from pycountry-convert)\n",
      "  Downloading pytest-7.4.3-py3-none-any.whl.metadata (7.9 kB)\n",
      "Collecting pytest-mock>=1.6.3 (from pycountry-convert)\n",
      "  Downloading pytest_mock-3.12.0-py3-none-any.whl.metadata (3.8 kB)\n",
      "Collecting pytest-cov>=2.5.1 (from pycountry-convert)\n",
      "  Downloading pytest_cov-4.1.0-py3-none-any.whl.metadata (26 kB)\n",
      "Collecting repoze.lru>=0.7 (from pycountry-convert)\n",
      "  Downloading repoze.lru-0.7-py3-none-any.whl (10 kB)\n",
      "Requirement already satisfied: wheel>=0.30.0 in /usr/local/lib/python3.12/site-packages (from pycountry-convert) (0.41.3)\n",
      "Requirement already satisfied: setuptools in /usr/local/lib/python3.12/site-packages (from pycountry>=16.11.27.1->pycountry-convert) (68.2.2)\n",
      "Collecting iniconfig (from pytest>=3.4.0->pycountry-convert)\n",
      "  Downloading iniconfig-2.0.0-py3-none-any.whl (5.9 kB)\n",
      "Requirement already satisfied: packaging in /usr/local/lib/python3.12/site-packages (from pytest>=3.4.0->pycountry-convert) (23.2)\n",
      "Collecting pluggy<2.0,>=0.12 (from pytest>=3.4.0->pycountry-convert)\n",
      "  Downloading pluggy-1.3.0-py3-none-any.whl.metadata (4.3 kB)\n",
      "Collecting coverage>=5.2.1 (from coverage[toml]>=5.2.1->pytest-cov>=2.5.1->pycountry-convert)\n",
      "  Downloading coverage-7.3.2-cp312-cp312-manylinux_2_5_x86_64.manylinux1_x86_64.manylinux_2_17_x86_64.manylinux2014_x86_64.whl.metadata (8.1 kB)\n",
      "Downloading pytest-7.4.3-py3-none-any.whl (325 kB)\n",
      "\u001b[2K   \u001b[90m━━━━━━━━━━━━━━━━━━━━━━━━━━━━━━━━━━━━━━━━\u001b[0m \u001b[32m325.1/325.1 kB\u001b[0m \u001b[31m85.4 MB/s\u001b[0m eta \u001b[36m0:00:00\u001b[0m\n",
      "\u001b[?25hDownloading pytest_cov-4.1.0-py3-none-any.whl (21 kB)\n",
      "Downloading pytest_mock-3.12.0-py3-none-any.whl (9.8 kB)\n",
      "Downloading coverage-7.3.2-cp312-cp312-manylinux_2_5_x86_64.manylinux1_x86_64.manylinux_2_17_x86_64.manylinux2014_x86_64.whl (232 kB)\n",
      "\u001b[2K   \u001b[90m━━━━━━━━━━━━━━━━━━━━━━━━━━━━━━━━━━━━━━━━\u001b[0m \u001b[32m232.3/232.3 kB\u001b[0m \u001b[31m72.3 MB/s\u001b[0m eta \u001b[36m0:00:00\u001b[0m\n",
      "\u001b[?25hDownloading pluggy-1.3.0-py3-none-any.whl (18 kB)\n",
      "Building wheels for collected packages: pycountry\n",
      "  Building wheel for pycountry (pyproject.toml) ... \u001b[?25ldone\n",
      "\u001b[?25h  Created wheel for pycountry: filename=pycountry-22.3.5-py2.py3-none-any.whl size=10681832 sha256=c1d06efab5104b3c48d6c5941e3f6d14fa885e17141f578ba69cd76dc29837c2\n",
      "  Stored in directory: /root/.cache/pip/wheels/d6/29/9b/b87113e87dc952ca6b3cf003fca8372f7bd12295acf65992eb\n",
      "Successfully built pycountry\n",
      "Installing collected packages: repoze.lru, pprintpp, pycountry, pluggy, iniconfig, coverage, pytest, pytest-mock, pytest-cov, pycountry-convert\n",
      "Successfully installed coverage-7.3.2 iniconfig-2.0.0 pluggy-1.3.0 pprintpp-0.4.0 pycountry-22.3.5 pycountry-convert-0.7.2 pytest-7.4.3 pytest-cov-4.1.0 pytest-mock-3.12.0 repoze.lru-0.7\n",
      "\u001b[33mWARNING: Running pip as the 'root' user can result in broken permissions and conflicting behaviour with the system package manager. It is recommended to use a virtual environment instead: https://pip.pypa.io/warnings/venv\u001b[0m\u001b[33m\n",
      "\u001b[0mNote: you may need to restart the kernel to use updated packages.\n"
     ]
    }
   ],
   "source": [
    "pip install pycountry-convert"
   ]
  }
 ],
 "metadata": {
  "kernelspec": {
   "display_name": "Python 3 (ipykernel)",
   "language": "python",
   "name": "python3"
  },
  "language_info": {
   "codemirror_mode": {
    "name": "ipython",
    "version": 3
   },
   "file_extension": ".py",
   "mimetype": "text/x-python",
   "name": "python",
   "nbconvert_exporter": "python",
   "pygments_lexer": "ipython3",
   "version": "3.12.0"
  }
 },
 "nbformat": 4,
 "nbformat_minor": 5
}
